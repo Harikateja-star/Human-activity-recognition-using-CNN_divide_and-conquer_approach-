{
 "cells": [
  {
   "cell_type": "markdown",
   "metadata": {
    "id": "GuRkxiTEVd_i"
   },
   "source": [
    "In the dataset, Y_labels are represented as numbers from 1 to 6 as their identifiers.\n",
    "WALKING as 1\n",
    "WALKING_UPSTAIRS as 2\n",
    "WALKING_DOWNSTAIRS as 3\n",
    "SITTING as 4\n",
    "STANDING as 5\n",
    "LAYING as 6\n",
    "\n",
    "in Data exploration section we observed that we can divide the data into dynamic and static type so devided walking,waling_upstairs,walking_downstairs into category 0 i.e Dynamic, sitting, standing, laying into category 1 i.e. static.\n",
    "Will use 2 more classifiers seperatly for classifying classes of dynamic and static activities. so that model can learn differnt features for static and dynamic activities"
   ]
  },
  {
   "cell_type": "markdown",
   "metadata": {
    "id": "uRdMuMb4WGih"
   },
   "source": [
    "# Importing libraries and packages"
   ]
  },
  {
   "cell_type": "code",
   "execution_count": 1,
   "metadata": {
    "id": "Xdt8_-fiVec6"
   },
   "outputs": [],
   "source": [
    "import os\n",
    "os.environ['PYTHONHASHSEED'] = '0'\n",
    "import numpy as np\n",
    "import tensorflow as tf\n",
    "import random as rn\n",
    "np.random.seed(0)\n",
    "rn.seed(0)\n",
    "tf.random.set_seed(0) \n",
    "# Force TensorFlow to use single thread.\n",
    "# Multiple threads are a potential source of non-reproducible results.\n",
    "session_conf = tf.compat.v1.ConfigProto(intra_op_parallelism_threads=1,\n",
    "                              inter_op_parallelism_threads=1)\n",
    "\n",
    "from tensorflow.compat.v1.keras import backend as K\n",
    "\n",
    "# The below tf.set_random_seed() will make random number generation\n",
    "# in the TensorFlow backend have a well-defined initial state.\n",
    "tf.random.set_seed(0) \n",
    "\n",
    "sess = tf.compat.v1.Session(graph=tf.compat.v1.get_default_graph(), config=session_conf)\n",
    "K.set_session(sess)"
   ]
  },
  {
   "cell_type": "code",
   "execution_count": 2,
   "metadata": {
    "id": "z5lCjog8VyJw"
   },
   "outputs": [],
   "source": [
    "# Importing libraries\n",
    "import pandas as pd\n",
    "from matplotlib import pyplot\n",
    "from sklearn.preprocessing import StandardScaler\n",
    "from keras.models import Sequential\n",
    "from keras.layers import Dense\n",
    "from keras.layers import Flatten\n",
    "from keras.layers import Dropout\n",
    "from keras.layers.convolutional import Conv1D\n",
    "from keras.layers.convolutional import MaxPooling1D\n",
    "from keras.utils import to_categorical\n",
    "from keras.models import Sequential\n",
    "from keras.layers import LSTM\n",
    "from keras.layers.core import Dense, Dropout"
   ]
  },
  {
   "cell_type": "markdown",
   "metadata": {
    "id": "sQVr6xYNV23S"
   },
   "source": [
    "#Loading training and test dataset"
   ]
  },
  {
   "cell_type": "code",
   "execution_count": 3,
   "metadata": {
    "colab": {
     "base_uri": "https://localhost:8080/"
    },
    "id": "3MX5cQGaW0JD",
    "outputId": "277cca84-5f28-411c-ef5a-8ea778a9bb98"
   },
   "outputs": [
    {
     "name": "stdout",
     "output_type": "stream",
     "text": [
      "Mounted at /drive\n"
     ]
    }
   ],
   "source": [
    "from google.colab import drive\n",
    "drive.mount('/drive')"
   ]
  },
  {
   "cell_type": "code",
   "execution_count": 6,
   "metadata": {
    "id": "V1giaRkWV8Ob"
   },
   "outputs": [],
   "source": [
    "## Classifying data as 2 class dynamic vs static \n",
    "##data preparation\n",
    "def data_scaled_2class():\n",
    "    \"\"\"\n",
    "    Obtain the dataset from multiple files.\n",
    "    Returns: X_train, X_test, y_train, y_test\n",
    "    \"\"\"\n",
    "    # Data directory\n",
    "    DATADIR = 'UCI_HAR_Dataset'\n",
    "    # Raw data signals\n",
    "    # Signals are from Accelerometer and Gyroscope\n",
    "    # The signals are in x,y,z directions\n",
    "    # Sensor signals are filtered to have only body acceleration\n",
    "    # excluding the acceleration due to gravity\n",
    "    # Triaxial acceleration from the accelerometer is total acceleration\n",
    "    SIGNALS = [\n",
    "        \"body_acc_x\",\n",
    "        \"body_acc_y\",\n",
    "        \"body_acc_z\",\n",
    "        \"body_gyro_x\",\n",
    "        \"body_gyro_y\",\n",
    "        \"body_gyro_z\",\n",
    "        \"total_acc_x\",\n",
    "        \"total_acc_y\",\n",
    "        \"total_acc_z\"\n",
    "        ]\n",
    "    from sklearn.base import BaseEstimator, TransformerMixin\n",
    "    import pickle\n",
    "    class scaling_tseries_data(BaseEstimator, TransformerMixin):\n",
    "        from sklearn.preprocessing import StandardScaler\n",
    "        def __init__(self):\n",
    "            self.scale = None\n",
    "\n",
    "        def transform(self, X):\n",
    "            temp_X1 = X.reshape((X.shape[0] * X.shape[1], X.shape[2]))\n",
    "            temp_X1 = self.scale.transform(temp_X1)\n",
    "            return temp_X1.reshape(X.shape)\n",
    "\n",
    "        def fit(self, X):\n",
    "            # remove overlaping\n",
    "            remove = int(X.shape[1] / 2)\n",
    "            temp_X = X[:, -remove:, :]\n",
    "            # flatten data\n",
    "            temp_X = temp_X.reshape((temp_X.shape[0] * temp_X.shape[1], temp_X.shape[2]))\n",
    "            scale = StandardScaler()\n",
    "            scale.fit(temp_X)\n",
    "            ##saving for furter usage\n",
    "            ## will use in predicton pipeline\n",
    "            pickle.dump(scale,open('Scale_2class.p','wb'))\n",
    "            self.scale = scale\n",
    "            return self\n",
    "        \n",
    "    # Utility function to read the data from csv file\n",
    "    def _read_csv(filename):\n",
    "        return pd.read_csv(filename, delim_whitespace=True, header=None)\n",
    "\n",
    "    # Utility function to load the load\n",
    "    def load_signals(subset):\n",
    "        signals_data = []\n",
    "\n",
    "        for signal in SIGNALS:\n",
    "            filename = f'/drive/My Drive/UCI HAR Dataset/UCI HAR Dataset/{subset}/Inertial Signals/{signal}_{subset}.txt'\n",
    "            signals_data.append( _read_csv(filename).to_numpy()) \n",
    "\n",
    "        # Transpose is used to change the dimensionality of the output,\n",
    "        # aggregating the signals by combination of sample/timestep.\n",
    "        # Resultant shape is (7352 train/2947 test samples, 128 timesteps, 9 signals)\n",
    "        return np.transpose(signals_data, (1, 2, 0))\n",
    "    \n",
    "    def load_y(subset):\n",
    "        \"\"\"\n",
    "        The objective that we are trying to predict is a integer, from 1 to 6,\n",
    "        that represents a human activity. We return a binary representation of \n",
    "        every sample objective as a 6 bits vector using One Hot Encoding\n",
    "        \"\"\"\n",
    "        filename = f'/drive/My Drive/UCI HAR Dataset/UCI HAR Dataset/{subset}/y_{subset}.txt'\n",
    "        y = _read_csv(filename)[0]\n",
    "        y[y<=3] = 0\n",
    "        y[y>3] = 1\n",
    "        return pd.get_dummies(y).to_numpy()\n",
    "    \n",
    "    X_train_2c, X_val_2c = load_signals('train'), load_signals('test')\n",
    "    Y_train_2c, Y_val_2c = load_y('train'), load_y('test')\n",
    "    ###Scling data\n",
    "    Scale = scaling_tseries_data()\n",
    "    Scale.fit(X_train_2c)\n",
    "    X_train_2c = Scale.transform(X_train_2c)\n",
    "    X_val_2c = Scale.transform(X_val_2c)\n",
    "    return X_train_2c, Y_train_2c, X_val_2c,  Y_val_2c"
   ]
  },
  {
   "cell_type": "code",
   "execution_count": 7,
   "metadata": {
    "id": "JzXEybvTW_vA"
   },
   "outputs": [],
   "source": [
    "X_train_2c, Y_train_2c, X_val_2c,  Y_val_2c = data_scaled_2class()"
   ]
  },
  {
   "cell_type": "code",
   "execution_count": 8,
   "metadata": {
    "colab": {
     "base_uri": "https://localhost:8080/"
    },
    "id": "9wKkVKo7XFsT",
    "outputId": "e8002d61-05bf-4fce-cd3d-ebdf70708500"
   },
   "outputs": [
    {
     "name": "stdout",
     "output_type": "stream",
     "text": [
      "(7352, 2)\n",
      "(2947, 2)\n"
     ]
    }
   ],
   "source": [
    "print(Y_train_2c.shape)\n",
    "print(Y_val_2c.shape)"
   ]
  },
  {
   "cell_type": "markdown",
   "metadata": {
    "id": "-vLpf0tDYBCx"
   },
   "source": [
    "# Model for classifying data into Static and Dynamic activities"
   ]
  },
  {
   "cell_type": "code",
   "execution_count": 9,
   "metadata": {
    "colab": {
     "base_uri": "https://localhost:8080/"
    },
    "id": "Qn0rI9PoYE-J",
    "outputId": "027ed30e-f609-46fb-d91f-66f3695edf06"
   },
   "outputs": [
    {
     "name": "stdout",
     "output_type": "stream",
     "text": [
      "Model: \"sequential\"\n",
      "_________________________________________________________________\n",
      "Layer (type)                 Output Shape              Param #   \n",
      "=================================================================\n",
      "conv1d (Conv1D)              (None, 126, 32)           896       \n",
      "_________________________________________________________________\n",
      "conv1d_1 (Conv1D)            (None, 124, 32)           3104      \n",
      "_________________________________________________________________\n",
      "dropout (Dropout)            (None, 124, 32)           0         \n",
      "_________________________________________________________________\n",
      "max_pooling1d (MaxPooling1D) (None, 62, 32)            0         \n",
      "_________________________________________________________________\n",
      "flatten (Flatten)            (None, 1984)              0         \n",
      "_________________________________________________________________\n",
      "dense (Dense)                (None, 50)                99250     \n",
      "_________________________________________________________________\n",
      "dense_1 (Dense)              (None, 2)                 102       \n",
      "=================================================================\n",
      "Total params: 103,352\n",
      "Trainable params: 103,352\n",
      "Non-trainable params: 0\n",
      "_________________________________________________________________\n"
     ]
    }
   ],
   "source": [
    "K.clear_session()\n",
    "np.random.seed(0)\n",
    "tf.random.set_seed(0) \n",
    "sess = tf.compat.v1.Session(graph=tf.compat.v1.get_default_graph())\n",
    "K.set_session(sess)\n",
    "model = Sequential()\n",
    "model.add(Conv1D(filters=32, kernel_size=3, activation='relu',kernel_initializer='he_uniform',input_shape=(128,9)))\n",
    "model.add(Conv1D(filters=32, kernel_size=3, activation='relu',kernel_initializer='he_uniform'))\n",
    "model.add(Dropout(0.6))\n",
    "model.add(MaxPooling1D(pool_size=2))\n",
    "model.add(Flatten())\n",
    "model.add(Dense(50, activation='relu'))\n",
    "model.add(Dense(2, activation='softmax'))\n",
    "model.summary()"
   ]
  },
  {
   "cell_type": "code",
   "execution_count": 11,
   "metadata": {
    "id": "vVtp9AizYq6s"
   },
   "outputs": [],
   "source": [
    "import math\n",
    "import keras\n",
    "adam = keras.optimizers.Adam(lr=0.001)"
   ]
  },
  {
   "cell_type": "code",
   "execution_count": 12,
   "metadata": {
    "colab": {
     "base_uri": "https://localhost:8080/"
    },
    "id": "RTIWSDaiY0cz",
    "outputId": "cb2166cc-ce4f-49df-fcbc-d9c80d329b97"
   },
   "outputs": [
    {
     "name": "stdout",
     "output_type": "stream",
     "text": [
      "Epoch 1/20\n",
      "460/460 [==============================] - 3s 7ms/step - loss: 0.0425 - accuracy: 0.9860 - val_loss: 0.2569 - val_accuracy: 0.9664\n",
      "Epoch 2/20\n",
      "460/460 [==============================] - 3s 7ms/step - loss: 0.0066 - accuracy: 0.9980 - val_loss: 0.0074 - val_accuracy: 0.9990\n",
      "Epoch 3/20\n",
      "460/460 [==============================] - 3s 7ms/step - loss: 0.0013 - accuracy: 0.9996 - val_loss: 0.0179 - val_accuracy: 0.9932\n",
      "Epoch 4/20\n",
      "460/460 [==============================] - 3s 7ms/step - loss: 3.3991e-05 - accuracy: 1.0000 - val_loss: 0.0208 - val_accuracy: 0.9929\n",
      "Epoch 5/20\n",
      "460/460 [==============================] - 3s 7ms/step - loss: 5.5422e-05 - accuracy: 1.0000 - val_loss: 0.0195 - val_accuracy: 0.9929\n",
      "Epoch 6/20\n",
      "460/460 [==============================] - 3s 7ms/step - loss: 2.1158e-05 - accuracy: 1.0000 - val_loss: 0.0164 - val_accuracy: 0.9932\n",
      "Epoch 7/20\n",
      "460/460 [==============================] - 3s 7ms/step - loss: 5.2984e-06 - accuracy: 1.0000 - val_loss: 0.0170 - val_accuracy: 0.9932\n",
      "Epoch 8/20\n",
      "460/460 [==============================] - 3s 7ms/step - loss: 5.8312e-06 - accuracy: 1.0000 - val_loss: 0.0177 - val_accuracy: 0.9932\n",
      "Epoch 9/20\n",
      "460/460 [==============================] - 3s 7ms/step - loss: 4.9304e-06 - accuracy: 1.0000 - val_loss: 0.0184 - val_accuracy: 0.9932\n",
      "Epoch 10/20\n",
      "460/460 [==============================] - 3s 7ms/step - loss: 4.8081e-06 - accuracy: 1.0000 - val_loss: 0.0185 - val_accuracy: 0.9932\n",
      "Epoch 11/20\n",
      "460/460 [==============================] - 3s 7ms/step - loss: 1.2843e-06 - accuracy: 1.0000 - val_loss: 0.0201 - val_accuracy: 0.9925\n",
      "Epoch 12/20\n",
      "460/460 [==============================] - 3s 7ms/step - loss: 2.1450e-06 - accuracy: 1.0000 - val_loss: 0.0209 - val_accuracy: 0.9919\n",
      "Epoch 13/20\n",
      "460/460 [==============================] - 3s 7ms/step - loss: 6.2496e-06 - accuracy: 1.0000 - val_loss: 0.0318 - val_accuracy: 0.9881\n",
      "Epoch 14/20\n",
      "460/460 [==============================] - 3s 7ms/step - loss: 1.6579e-06 - accuracy: 1.0000 - val_loss: 0.0325 - val_accuracy: 0.9881\n",
      "Epoch 15/20\n",
      "460/460 [==============================] - 3s 7ms/step - loss: 8.1690e-07 - accuracy: 1.0000 - val_loss: 0.0299 - val_accuracy: 0.9881\n",
      "Epoch 16/20\n",
      "460/460 [==============================] - 3s 7ms/step - loss: 3.2072e-07 - accuracy: 1.0000 - val_loss: 0.0335 - val_accuracy: 0.9881\n",
      "Epoch 17/20\n",
      "460/460 [==============================] - 3s 7ms/step - loss: 4.1405e-07 - accuracy: 1.0000 - val_loss: 0.0345 - val_accuracy: 0.9878\n",
      "Epoch 18/20\n",
      "460/460 [==============================] - 3s 7ms/step - loss: 1.7798e-06 - accuracy: 1.0000 - val_loss: 0.0434 - val_accuracy: 0.9874\n",
      "Epoch 19/20\n",
      "460/460 [==============================] - 3s 7ms/step - loss: 1.3561e-07 - accuracy: 1.0000 - val_loss: 0.0442 - val_accuracy: 0.9874\n",
      "Epoch 20/20\n",
      "460/460 [==============================] - 3s 7ms/step - loss: 1.4221e-07 - accuracy: 1.0000 - val_loss: 0.0420 - val_accuracy: 0.9874\n"
     ]
    },
    {
     "data": {
      "text/plain": [
       "<tensorflow.python.keras.callbacks.History at 0x7f59f9afa6d8>"
      ]
     },
     "execution_count": 12,
     "metadata": {
      "tags": []
     },
     "output_type": "execute_result"
    }
   ],
   "source": [
    "model.compile(loss='categorical_crossentropy', optimizer=adam, metrics=['accuracy'])\n",
    "model.fit(X_train_2c,Y_train_2c, epochs=20, batch_size=16,validation_data=(X_val_2c, Y_val_2c), verbose=1)"
   ]
  },
  {
   "cell_type": "code",
   "execution_count": 13,
   "metadata": {
    "colab": {
     "base_uri": "https://localhost:8080/"
    },
    "id": "r5wprcYIZKJi",
    "outputId": "867ea28d-da4f-4f87-e53f-e8d7576a7668"
   },
   "outputs": [
    {
     "name": "stdout",
     "output_type": "stream",
     "text": [
      "Train_accuracy 1.0 test_accuracy 0.9874448776245117\n"
     ]
    }
   ],
   "source": [
    "_,acc_val = model.evaluate(X_val_2c,Y_val_2c,verbose=0)\n",
    "_,acc_train = model.evaluate(X_train_2c,Y_train_2c,verbose=0)\n",
    "print('Train_accuracy',acc_train,'test_accuracy',acc_val)"
   ]
  },
  {
   "cell_type": "code",
   "execution_count": 14,
   "metadata": {
    "id": "TMyXCxWjZPRw"
   },
   "outputs": [],
   "source": [
    "##saving model\n",
    "model.save('final_model_2class.h5')"
   ]
  },
  {
   "cell_type": "markdown",
   "metadata": {
    "id": "mrjzQuDQZSmr"
   },
   "source": [
    "**This model is almost classifying data into dynammic or static correctly with very hig accuracy***"
   ]
  },
  {
   "cell_type": "markdown",
   "metadata": {
    "id": "eRZ-UP9xZYfC"
   },
   "source": [
    "#Classificaton of Static activities¶\n"
   ]
  },
  {
   "cell_type": "code",
   "execution_count": 17,
   "metadata": {
    "id": "7yqCTtEzZb5s"
   },
   "outputs": [],
   "source": [
    "##data preparation\n",
    "def data_scaled_static():\n",
    "    \"\"\"\n",
    "    Obtain the dataset from multiple files.\n",
    "    Returns: X_train, X_test, y_train, y_test\n",
    "    \"\"\"\n",
    "    # Data directory\n",
    "    DATADIR = 'UCI_HAR_Dataset'\n",
    "    # Raw data signals\n",
    "    # Signals are from Accelerometer and Gyroscope\n",
    "    # The signals are in x,y,z directions\n",
    "    # Sensor signals are filtered to have only body acceleration\n",
    "    # excluding the acceleration due to gravity\n",
    "    # Triaxial acceleration from the accelerometer is total acceleration\n",
    "    SIGNALS = [\n",
    "        \"body_acc_x\",\n",
    "        \"body_acc_y\",\n",
    "        \"body_acc_z\",\n",
    "        \"body_gyro_x\",\n",
    "        \"body_gyro_y\",\n",
    "        \"body_gyro_z\",\n",
    "        \"total_acc_x\",\n",
    "        \"total_acc_y\",\n",
    "        \"total_acc_z\"\n",
    "        ]\n",
    "    from sklearn.base import BaseEstimator, TransformerMixin\n",
    "    import pickle\n",
    "    class scaling_tseries_data(BaseEstimator, TransformerMixin):\n",
    "        from sklearn.preprocessing import StandardScaler\n",
    "        def __init__(self):\n",
    "            self.scale = None\n",
    "\n",
    "        def transform(self, X):\n",
    "            temp_X1 = X.reshape((X.shape[0] * X.shape[1], X.shape[2]))\n",
    "            temp_X1 = self.scale.transform(temp_X1)\n",
    "            return temp_X1.reshape(X.shape)\n",
    "\n",
    "        def fit(self, X):\n",
    "            # remove overlaping\n",
    "            remove = int(X.shape[1] / 2)\n",
    "            temp_X = X[:, -remove:, :]\n",
    "            # flatten data\n",
    "            temp_X = temp_X.reshape((temp_X.shape[0] * temp_X.shape[1], temp_X.shape[2]))\n",
    "            scale = StandardScaler()\n",
    "            scale.fit(temp_X)\n",
    "            #for furter use at prediction pipeline\n",
    "            pickle.dump(scale,open('Scale_static.p','wb'))\n",
    "            self.scale = scale\n",
    "            return self\n",
    "        \n",
    "    # Utility function to read the data from csv file\n",
    "    def _read_csv(filename):\n",
    "        return pd.read_csv(filename, delim_whitespace=True, header=None)\n",
    "\n",
    "    # Utility function to load the load\n",
    "    def load_signals(subset):\n",
    "        signals_data = []\n",
    "\n",
    "        for signal in SIGNALS:\n",
    "            filename = f'/drive/My Drive/UCI HAR Dataset/UCI HAR Dataset/{subset}/Inertial Signals/{signal}_{subset}.txt'\n",
    "            signals_data.append( _read_csv(filename).to_numpy()) \n",
    "\n",
    "        # Transpose is used to change the dimensionality of the output,\n",
    "        # aggregating the signals by combination of sample/timestep.\n",
    "        # Resultant shape is (7352 train/2947 test samples, 128 timesteps, 9 signals)\n",
    "        return np.transpose(signals_data, (1, 2, 0))\n",
    "    \n",
    "    def load_y(subset):\n",
    "        \"\"\"\n",
    "        The objective that we are trying to predict is a integer, from 1 to 6,\n",
    "        that represents a human activity. We return a binary representation of \n",
    "        every sample objective as a 6 bits vector using One Hot Encoding\n",
    "  \n",
    "        \"\"\"\n",
    "        filename = f'/drive/My Drive/UCI HAR Dataset/UCI HAR Dataset/{subset}/y_{subset}.txt'\n",
    "        y = _read_csv(filename)[0]\n",
    "        y_subset = y>3\n",
    "        y = y[y_subset]\n",
    "        return pd.get_dummies(y).to_numpy(),y_subset\n",
    "    \n",
    "    Y_train_s,y_train_sub = load_y('train')\n",
    "    Y_val_s,y_test_sub = load_y('test')\n",
    "    X_train_s, X_val_s = load_signals('train'), load_signals('test')\n",
    "    X_train_s = X_train_s[y_train_sub]\n",
    "    X_val_s = X_val_s[y_test_sub]\n",
    "    \n",
    "    ###Scling data\n",
    "    Scale = scaling_tseries_data()\n",
    "    Scale.fit(X_train_s)\n",
    "    X_train_s = Scale.transform(X_train_s)\n",
    "    X_val_s = Scale.transform(X_val_s)\n",
    "\n",
    "    return X_train_s, Y_train_s, X_val_s,  Y_val_s\n"
   ]
  },
  {
   "cell_type": "code",
   "execution_count": 18,
   "metadata": {
    "id": "icCZ7Ny0Zb7V"
   },
   "outputs": [],
   "source": [
    "X_train_s, Y_train_s, X_val_s,  Y_val_s = data_scaled_static()"
   ]
  },
  {
   "cell_type": "code",
   "execution_count": 19,
   "metadata": {
    "colab": {
     "base_uri": "https://localhost:8080/"
    },
    "id": "xi1pzn6Ja-jw",
    "outputId": "28b430bd-f469-474b-c2b5-14932d6ec508"
   },
   "outputs": [
    {
     "name": "stdout",
     "output_type": "stream",
     "text": [
      "X Shape of train data (4067, 128, 9) Y shape (4067, 3)\n",
      "X Shape of val data (1560, 128, 9) Y shape (1560, 3)\n"
     ]
    }
   ],
   "source": [
    "print('X Shape of train data',X_train_s.shape, 'Y shape', Y_train_s.shape)\n",
    "print('X Shape of val data',X_val_s.shape,'Y shape',Y_val_s.shape)\n"
   ]
  },
  {
   "cell_type": "markdown",
   "metadata": {
    "id": "zD9A1BqGbFPi"
   },
   "source": [
    "#Baseline Model"
   ]
  },
  {
   "cell_type": "code",
   "execution_count": 57,
   "metadata": {
    "colab": {
     "base_uri": "https://localhost:8080/"
    },
    "id": "6u_YkzQ6bIs8",
    "outputId": "9e7dfce9-878b-42b7-cf42-a55c47e372f6"
   },
   "outputs": [
    {
     "name": "stdout",
     "output_type": "stream",
     "text": [
      "Model: \"sequential_2\"\n",
      "_________________________________________________________________\n",
      "Layer (type)                 Output Shape              Param #   \n",
      "=================================================================\n",
      "conv1d_2 (Conv1D)            (None, 122, 64)           4096      \n",
      "_________________________________________________________________\n",
      "conv1d_3 (Conv1D)            (None, 120, 32)           6176      \n",
      "_________________________________________________________________\n",
      "dropout_1 (Dropout)          (None, 120, 32)           0         \n",
      "_________________________________________________________________\n",
      "max_pooling1d_1 (MaxPooling1 (None, 40, 32)            0         \n",
      "_________________________________________________________________\n",
      "flatten_1 (Flatten)          (None, 1280)              0         \n",
      "_________________________________________________________________\n",
      "dense_2 (Dense)              (None, 30)                38430     \n",
      "_________________________________________________________________\n",
      "dense_3 (Dense)              (None, 3)                 93        \n",
      "=================================================================\n",
      "Total params: 48,795\n",
      "Trainable params: 48,795\n",
      "Non-trainable params: 0\n",
      "_________________________________________________________________\n"
     ]
    }
   ],
   "source": [
    "np.random.seed(0)\n",
    "tf.random.set_seed(0) \n",
    "sess = tf.compat.v1.Session(graph=tf.compat.v1.get_default_graph())\n",
    "K.set_session(sess)\n",
    "model = Sequential()\n",
    "model.add(Conv1D(filters=64, kernel_size=7, activation='relu',kernel_initializer='he_uniform',input_shape=(128,9)))\n",
    "model.add(Conv1D(filters=32, kernel_size=3, activation='relu',kernel_initializer='he_uniform'))\n",
    "model.add(Dropout(0.6))\n",
    "model.add(MaxPooling1D(pool_size=3))\n",
    "model.add(Flatten())\n",
    "model.add(Dense(30, activation='relu'))\n",
    "model.add(Dense(3, activation='softmax'))\n",
    "model.summary()"
   ]
  },
  {
   "cell_type": "code",
   "execution_count": 58,
   "metadata": {
    "colab": {
     "base_uri": "https://localhost:8080/"
    },
    "id": "85Xvltu1bkEc",
    "outputId": "6e46d3b7-55b9-45cd-cd02-165a65db4aa3"
   },
   "outputs": [
    {
     "name": "stdout",
     "output_type": "stream",
     "text": [
      "Epoch 1/20\n",
      "128/128 [==============================] - 2s 16ms/step - loss: 0.3491 - accuracy: 0.8790 - val_loss: 0.3339 - val_accuracy: 0.8910\n",
      "Epoch 2/20\n",
      "128/128 [==============================] - 2s 15ms/step - loss: 0.2449 - accuracy: 0.9014 - val_loss: 0.3061 - val_accuracy: 0.8551\n",
      "Epoch 3/20\n",
      "128/128 [==============================] - 2s 15ms/step - loss: 0.1823 - accuracy: 0.9275 - val_loss: 0.2669 - val_accuracy: 0.9199\n",
      "Epoch 4/20\n",
      "128/128 [==============================] - 2s 15ms/step - loss: 0.1918 - accuracy: 0.9257 - val_loss: 0.2690 - val_accuracy: 0.9019\n",
      "Epoch 5/20\n",
      "128/128 [==============================] - 2s 15ms/step - loss: 0.1952 - accuracy: 0.9334 - val_loss: 0.2495 - val_accuracy: 0.9160\n",
      "Epoch 6/20\n",
      "128/128 [==============================] - 2s 15ms/step - loss: 0.1356 - accuracy: 0.9459 - val_loss: 0.2327 - val_accuracy: 0.8987\n",
      "Epoch 7/20\n",
      "128/128 [==============================] - 2s 15ms/step - loss: 0.1291 - accuracy: 0.9501 - val_loss: 0.2007 - val_accuracy: 0.9186\n",
      "Epoch 8/20\n",
      "128/128 [==============================] - 2s 15ms/step - loss: 0.1837 - accuracy: 0.9331 - val_loss: 0.2568 - val_accuracy: 0.8756\n",
      "Epoch 9/20\n",
      "128/128 [==============================] - 2s 15ms/step - loss: 0.1633 - accuracy: 0.9425 - val_loss: 0.2504 - val_accuracy: 0.8712\n",
      "Epoch 10/20\n",
      "128/128 [==============================] - 2s 15ms/step - loss: 0.1549 - accuracy: 0.9444 - val_loss: 0.1791 - val_accuracy: 0.9314\n",
      "Epoch 11/20\n",
      "128/128 [==============================] - 2s 15ms/step - loss: 0.1052 - accuracy: 0.9597 - val_loss: 0.1600 - val_accuracy: 0.9417\n",
      "Epoch 12/20\n",
      "128/128 [==============================] - 2s 15ms/step - loss: 0.1252 - accuracy: 0.9496 - val_loss: 0.1795 - val_accuracy: 0.9359\n",
      "Epoch 13/20\n",
      "128/128 [==============================] - 2s 15ms/step - loss: 0.1115 - accuracy: 0.9607 - val_loss: 0.1813 - val_accuracy: 0.9301\n",
      "Epoch 14/20\n",
      "128/128 [==============================] - 2s 15ms/step - loss: 0.0955 - accuracy: 0.9636 - val_loss: 0.1994 - val_accuracy: 0.9250\n",
      "Epoch 15/20\n",
      "128/128 [==============================] - 2s 15ms/step - loss: 0.0910 - accuracy: 0.9653 - val_loss: 0.2090 - val_accuracy: 0.9231\n",
      "Epoch 16/20\n",
      "128/128 [==============================] - 2s 15ms/step - loss: 0.2463 - accuracy: 0.9390 - val_loss: 0.2020 - val_accuracy: 0.9122\n",
      "Epoch 17/20\n",
      "128/128 [==============================] - 2s 15ms/step - loss: 0.1262 - accuracy: 0.9572 - val_loss: 0.1564 - val_accuracy: 0.9308\n",
      "Epoch 18/20\n",
      "128/128 [==============================] - 2s 15ms/step - loss: 0.0885 - accuracy: 0.9675 - val_loss: 0.1404 - val_accuracy: 0.9468\n",
      "Epoch 19/20\n",
      "128/128 [==============================] - 2s 15ms/step - loss: 0.0899 - accuracy: 0.9717 - val_loss: 0.1948 - val_accuracy: 0.9301\n",
      "Epoch 20/20\n",
      "128/128 [==============================] - 2s 15ms/step - loss: 0.0950 - accuracy: 0.9693 - val_loss: 0.1407 - val_accuracy: 0.9436\n"
     ]
    }
   ],
   "source": [
    "import math\n",
    "import keras\n",
    "adam = keras.optimizers.Adam(lr=0.004)\n",
    "model.compile(loss='categorical_crossentropy', optimizer=adam, metrics=['accuracy'])\n",
    "model.fit(X_train_s,Y_train_s, epochs=20, batch_size=32,validation_data=(X_val_s, Y_val_s), verbose=1)\n",
    "K.clear_session()\n"
   ]
  },
  {
   "cell_type": "markdown",
   "metadata": {
    "id": "FY6rgFYLcOl7"
   },
   "source": []
  },
  {
   "cell_type": "code",
   "execution_count": 60,
   "metadata": {
    "colab": {
     "base_uri": "https://localhost:8080/"
    },
    "id": "CbQZFEC_eNVV",
    "outputId": "b0ec2eb6-2c33-47ec-9ae6-7db5e2f1d156"
   },
   "outputs": [
    {
     "name": "stdout",
     "output_type": "stream",
     "text": [
      "Train_accuracy 0.9761494994163513 test_accuracy 0.9435897469520569\n"
     ]
    }
   ],
   "source": [
    "_,acc_val = model.evaluate(X_val_s,Y_val_s,verbose=0)\n",
    "_,acc_train =model.evaluate(X_train_s,Y_train_s,verbose=0)\n",
    "print('Train_accuracy',acc_train,'test_accuracy',acc_val)"
   ]
  },
  {
   "cell_type": "code",
   "execution_count": 61,
   "metadata": {
    "colab": {
     "base_uri": "https://localhost:8080/"
    },
    "id": "vG3l27p3kHeV",
    "outputId": "c1903a1e-1e3a-4083-f2cf-e3de812332fb"
   },
   "outputs": [
    {
     "name": "stdout",
     "output_type": "stream",
     "text": [
      "[[537   0   0]\n",
      " [  3 419  69]\n",
      " [  0  16 516]]\n"
     ]
    }
   ],
   "source": [
    "# Confusion Matrix\n",
    "# Activities are the class labels\n",
    "# It is a 3 class classification\n",
    "from sklearn import metrics\n",
    "ACTIVITIES = {\n",
    "    0: 'SITTING',\n",
    "    1: 'STANDING',\n",
    "    2: 'LAYING',\n",
    "}\n",
    "\n",
    "# Utility function to print the confusion matrix\n",
    "def confusion_matrix_cnn(Y_true, Y_pred):\n",
    "    Y_true = pd.Series([ACTIVITIES[y] for y in np.argmax(Y_true, axis=1)])\n",
    "    Y_pred = pd.Series([ACTIVITIES[y] for y in np.argmax(Y_pred, axis=1)])\n",
    "\n",
    "    #return pd.crosstab(Y_true, Y_pred, rownames=['True'], colnames=['Pred'])\n",
    "    return metrics.confusion_matrix(Y_true, Y_pred)\n",
    "\n",
    "# Confusion Matrix\n",
    "print(confusion_matrix_cnn(Y_val_s,model.predict(X_val_s)))"
   ]
  },
  {
   "cell_type": "code",
   "execution_count": 62,
   "metadata": {
    "id": "XjoKZjNjkeq2"
   },
   "outputs": [],
   "source": [
    "import itertools\n",
    "import numpy as np\n",
    "import matplotlib.pyplot as plt\n",
    "from sklearn.metrics import confusion_matrix\n",
    "\n",
    "labels=['LAYING', 'SITTING','STANDING','WALKING','WALKING_DOWNSTAIRS','WALKING_UPSTAIRS']\n",
    "\n",
    "def plot_confusion_matrix(cm, classes,\n",
    "                          normalize=False,\n",
    "                          title='Confusion matrix',\n",
    "                          cmap=plt.cm.Blues):\n",
    "    if normalize:\n",
    "        cm = cm.astype('float') / cm.sum(axis=1)[:, np.newaxis]\n",
    "\n",
    "    plt.imshow(cm, interpolation='nearest', cmap=cmap)\n",
    "    plt.title(title)\n",
    "    plt.colorbar()\n",
    "    tick_marks = np.arange(len(classes))\n",
    "    plt.xticks(tick_marks, classes, rotation=90)\n",
    "    plt.yticks(tick_marks, classes)\n",
    "\n",
    "    fmt = '.2f' if normalize else 'd'\n",
    "    thresh = cm.max() / 2.\n",
    "    for i, j in itertools.product(range(cm.shape[0]), range(cm.shape[1])):\n",
    "        plt.text(j, i, format(cm[i, j], fmt),\n",
    "                 horizontalalignment=\"center\",\n",
    "                 color=\"white\" if cm[i, j] > thresh else \"black\")\n",
    "\n",
    "    plt.tight_layout()\n",
    "    plt.ylabel('True label')\n",
    "    plt.xlabel('Predicted label')"
   ]
  },
  {
   "cell_type": "code",
   "execution_count": 63,
   "metadata": {
    "colab": {
     "base_uri": "https://localhost:8080/",
     "height": 571
    },
    "id": "6NWkkZi1kRpU",
    "outputId": "5b787f2b-fbdc-4978-95fc-8758e5385878"
   },
   "outputs": [
    {
     "data": {
      "image/png": "[encoded data removed]",
      "text/plain": [
       "<Figure size 576x576 with 2 Axes>"
      ]
     },
     "metadata": {
      "needs_background": "light",
      "tags": []
     },
     "output_type": "display_data"
    }
   ],
   "source": [
    "plt.figure(figsize=(8,8))\n",
    "cm = confusion_matrix_cnn(Y_val_s, model.predict(X_val_s))\n",
    "plot_confusion_matrix(cm, classes=['SITTING','STANDING','LAYING'], normalize=True, title='Normalized confusion matrix', cmap = plt.cm.Greens)\n",
    "plt.show()"
   ]
  },
  {
   "cell_type": "code",
   "execution_count": 65,
   "metadata": {
    "id": "JrAT_zN7kj-9"
   },
   "outputs": [],
   "source": [
    "##saving model\n",
    "model.save('final_model_static.h5')"
   ]
  },
  {
   "cell_type": "markdown",
   "metadata": {
    "id": "v_2a1gMqmxNs"
   },
   "source": [
    "# Classification of Dynamic activities "
   ]
  },
  {
   "cell_type": "code",
   "execution_count": 68,
   "metadata": {
    "id": "Cwa21zs6m1Es"
   },
   "outputs": [],
   "source": [
    "##data preparation\n",
    "def data_scaled_dynamic():\n",
    "    \"\"\"\n",
    "    Obtain the dataset from multiple files.\n",
    "    Returns: X_train, X_test, y_train, y_test\n",
    "    \"\"\"\n",
    "    # Data directory\n",
    "    DATADIR = 'UCI_HAR_Dataset'\n",
    "    # Raw data signals\n",
    "    # Signals are from Accelerometer and Gyroscope\n",
    "    # The signals are in x,y,z directions\n",
    "    # Sensor signals are filtered to have only body acceleration\n",
    "    # excluding the acceleration due to gravity\n",
    "    # Triaxial acceleration from the accelerometer is total acceleration\n",
    "    SIGNALS = [\n",
    "        \"body_acc_x\",\n",
    "        \"body_acc_y\",\n",
    "        \"body_acc_z\",\n",
    "        \"body_gyro_x\",\n",
    "        \"body_gyro_y\",\n",
    "        \"body_gyro_z\",\n",
    "        \"total_acc_x\",\n",
    "        \"total_acc_y\",\n",
    "        \"total_acc_z\"\n",
    "        ]\n",
    "    from sklearn.base import BaseEstimator, TransformerMixin\n",
    "    import pickle\n",
    "    class scaling_tseries_data(BaseEstimator, TransformerMixin):\n",
    "        from sklearn.preprocessing import StandardScaler\n",
    "        def __init__(self):\n",
    "            self.scale = None\n",
    "\n",
    "        def transform(self, X):\n",
    "            temp_X1 = X.reshape((X.shape[0] * X.shape[1], X.shape[2]))\n",
    "            temp_X1 = self.scale.transform(temp_X1)\n",
    "            return temp_X1.reshape(X.shape)\n",
    "\n",
    "        def fit(self, X):\n",
    "            # remove overlaping\n",
    "            remove = int(X.shape[1] / 2)\n",
    "            temp_X = X[:, -remove:, :]\n",
    "            # flatten data\n",
    "            temp_X = temp_X.reshape((temp_X.shape[0] * temp_X.shape[1], temp_X.shape[2]))\n",
    "            scale = StandardScaler()\n",
    "            scale.fit(temp_X)\n",
    "            pickle.dump(scale,open('Scale_dynamic.p','wb'))\n",
    "            self.scale = scale\n",
    "            return self\n",
    "        \n",
    "    # Utility function to read the data from csv file\n",
    "    def _read_csv(filename):\n",
    "        return pd.read_csv(filename, delim_whitespace=True, header=None)\n",
    "\n",
    "    # Utility function to load the load\n",
    "    def load_signals(subset):\n",
    "        signals_data = []\n",
    "\n",
    "        for signal in SIGNALS:\n",
    "            filename = f'/drive/My Drive/UCI HAR Dataset/UCI HAR Dataset/{subset}/Inertial Signals/{signal}_{subset}.txt'\n",
    "            signals_data.append( _read_csv(filename).to_numpy()) \n",
    "\n",
    "        # Transpose is used to change the dimensionality of the output,\n",
    "        # aggregating the signals by combination of sample/timestep.\n",
    "        # Resultant shape is (7352 train/2947 test samples, 128 timesteps, 9 signals)\n",
    "        return np.transpose(signals_data, (1, 2, 0))\n",
    "    \n",
    "    def load_y(subset):\n",
    "        \"\"\"\n",
    "        The objective that we are trying to predict is a integer, from 1 to 6,\n",
    "        that represents a human activity. We return a binary representation of \n",
    "        every sample objective as a 6 bits vector using One Hot Encoding\n",
    "        (https://pandas.pydata.org/pandas-docs/stable/generated/pandas.get_dummies.html)\n",
    "        \"\"\"\n",
    "        filename = f'/drive/My Drive/UCI HAR Dataset/UCI HAR Dataset/{subset}/y_{subset}.txt'\n",
    "        y = _read_csv(filename)[0]\n",
    "        y_subset = y<=3\n",
    "        y = y[y_subset]\n",
    "        return pd.get_dummies(y).to_numpy(),y_subset\n",
    "    \n",
    "    Y_train_d,y_train_sub = load_y('train')\n",
    "    Y_val_d,y_test_sub = load_y('test')\n",
    "    X_train_d, X_val_d = load_signals('train'), load_signals('test')\n",
    "    X_train_d = X_train_d[y_train_sub]\n",
    "    X_val_d = X_val_d[y_test_sub]\n",
    "    \n",
    "    ###Scling data\n",
    "    Scale = scaling_tseries_data()\n",
    "    Scale.fit(X_train_d)\n",
    "    X_train_d = Scale.transform(X_train_d)\n",
    "    X_val_d = Scale.transform(X_val_d)\n",
    "\n",
    "    return X_train_d, Y_train_d, X_val_d,  Y_val_d"
   ]
  },
  {
   "cell_type": "code",
   "execution_count": 69,
   "metadata": {
    "id": "dFlWLAC7nabd"
   },
   "outputs": [],
   "source": [
    "X_train_d, Y_train_d, X_val_d,  Y_val_d = data_scaled_dynamic()"
   ]
  },
  {
   "cell_type": "code",
   "execution_count": 70,
   "metadata": {
    "colab": {
     "base_uri": "https://localhost:8080/"
    },
    "id": "n_xqKOl1nif0",
    "outputId": "74f63d3d-cc87-450e-a258-191f459f2ca7"
   },
   "outputs": [
    {
     "name": "stdout",
     "output_type": "stream",
     "text": [
      "Train X shape (3285, 128, 9) Test X shape (1387, 128, 9)\n",
      "Train Y shape (3285, 3) Test Y shape (1387, 3)\n"
     ]
    }
   ],
   "source": [
    "print('Train X shape',X_train_d.shape,'Test X shape',X_val_d.shape)\n",
    "print('Train Y shape',Y_train_d.shape,'Test Y shape',Y_val_d.shape)"
   ]
  },
  {
   "cell_type": "markdown",
   "metadata": {
    "id": "L2GhlVZAnmk3"
   },
   "source": [
    "#Baseline Model"
   ]
  },
  {
   "cell_type": "code",
   "execution_count": 71,
   "metadata": {
    "colab": {
     "base_uri": "https://localhost:8080/"
    },
    "id": "xclpB5yanqfH",
    "outputId": "06b9d6a1-1189-4ecb-cac7-5b2b70f99d22"
   },
   "outputs": [
    {
     "name": "stdout",
     "output_type": "stream",
     "text": [
      "Model: \"sequential\"\n",
      "_________________________________________________________________\n",
      "Layer (type)                 Output Shape              Param #   \n",
      "=================================================================\n",
      "conv1d (Conv1D)              (None, 122, 64)           4096      \n",
      "_________________________________________________________________\n",
      "conv1d_1 (Conv1D)            (None, 120, 32)           6176      \n",
      "_________________________________________________________________\n",
      "dropout (Dropout)            (None, 120, 32)           0         \n",
      "_________________________________________________________________\n",
      "max_pooling1d (MaxPooling1D) (None, 40, 32)            0         \n",
      "_________________________________________________________________\n",
      "flatten (Flatten)            (None, 1280)              0         \n",
      "_________________________________________________________________\n",
      "dense (Dense)                (None, 30)                38430     \n",
      "_________________________________________________________________\n",
      "dense_1 (Dense)              (None, 3)                 93        \n",
      "=================================================================\n",
      "Total params: 48,795\n",
      "Trainable params: 48,795\n",
      "Non-trainable params: 0\n",
      "_________________________________________________________________\n"
     ]
    }
   ],
   "source": [
    "np.random.seed(0)\n",
    "tf.random.set_seed(0) \n",
    "sess =tf.compat.v1.Session(graph=tf.compat.v1.get_default_graph())\n",
    "K.set_session(sess)\n",
    "model = Sequential()\n",
    "model.add(Conv1D(filters=64, kernel_size=7, activation='relu',kernel_initializer='he_uniform',input_shape=(128,9)))\n",
    "model.add(Conv1D(filters=32, kernel_size=3, activation='relu',kernel_initializer='he_uniform'))\n",
    "model.add(Dropout(0.6))\n",
    "model.add(MaxPooling1D(pool_size=3))\n",
    "model.add(Flatten())\n",
    "model.add(Dense(30, activation='relu'))\n",
    "model.add(Dense(3, activation='softmax'))\n",
    "model.summary()"
   ]
  },
  {
   "cell_type": "code",
   "execution_count": 72,
   "metadata": {
    "colab": {
     "base_uri": "https://localhost:8080/"
    },
    "id": "UeAaf_ppogDJ",
    "outputId": "35f35dd1-9d21-4f79-a1c2-11b8ce936f40"
   },
   "outputs": [
    {
     "name": "stdout",
     "output_type": "stream",
     "text": [
      "Epoch 1/60\n",
      "255/255 [==============================] - 2s 10ms/step - loss: 0.4181 - accuracy: 0.8699 - val_loss: 0.3208 - val_accuracy: 0.8872\n",
      "Epoch 2/60\n",
      "255/255 [==============================] - 2s 9ms/step - loss: 0.2080 - accuracy: 0.9174 - val_loss: 0.2740 - val_accuracy: 0.8955\n",
      "Epoch 3/60\n",
      "255/255 [==============================] - 2s 9ms/step - loss: 0.2092 - accuracy: 0.9238 - val_loss: 0.2593 - val_accuracy: 0.8974\n",
      "Epoch 4/60\n",
      "255/255 [==============================] - 2s 9ms/step - loss: 0.1695 - accuracy: 0.9378 - val_loss: 0.2251 - val_accuracy: 0.9179\n",
      "Epoch 5/60\n",
      "255/255 [==============================] - 2s 9ms/step - loss: 0.1406 - accuracy: 0.9449 - val_loss: 0.2129 - val_accuracy: 0.9321\n",
      "Epoch 6/60\n",
      "255/255 [==============================] - 2s 9ms/step - loss: 0.1246 - accuracy: 0.9548 - val_loss: 0.2178 - val_accuracy: 0.9237\n",
      "Epoch 7/60\n",
      "255/255 [==============================] - 2s 9ms/step - loss: 0.2385 - accuracy: 0.9304 - val_loss: 0.2992 - val_accuracy: 0.8949\n",
      "Epoch 8/60\n",
      "255/255 [==============================] - 2s 9ms/step - loss: 0.1863 - accuracy: 0.9339 - val_loss: 0.2823 - val_accuracy: 0.8955\n",
      "Epoch 9/60\n",
      "255/255 [==============================] - 2s 9ms/step - loss: 0.1517 - accuracy: 0.9486 - val_loss: 0.1970 - val_accuracy: 0.9231\n",
      "Epoch 10/60\n",
      "255/255 [==============================] - 2s 9ms/step - loss: 0.1496 - accuracy: 0.9501 - val_loss: 0.1952 - val_accuracy: 0.9179\n",
      "Epoch 11/60\n",
      "255/255 [==============================] - 2s 9ms/step - loss: 0.1325 - accuracy: 0.9518 - val_loss: 0.2783 - val_accuracy: 0.9250\n",
      "Epoch 12/60\n",
      "255/255 [==============================] - 2s 9ms/step - loss: 0.1241 - accuracy: 0.9548 - val_loss: 0.2098 - val_accuracy: 0.9295\n",
      "Epoch 13/60\n",
      "255/255 [==============================] - 2s 9ms/step - loss: 0.2063 - accuracy: 0.9358 - val_loss: 0.2994 - val_accuracy: 0.9346\n",
      "Epoch 14/60\n",
      "255/255 [==============================] - 2s 9ms/step - loss: 0.1575 - accuracy: 0.9538 - val_loss: 0.2063 - val_accuracy: 0.9372\n",
      "Epoch 15/60\n",
      "255/255 [==============================] - 2s 9ms/step - loss: 0.1007 - accuracy: 0.9629 - val_loss: 0.1749 - val_accuracy: 0.9340\n",
      "Epoch 16/60\n",
      "255/255 [==============================] - 2s 9ms/step - loss: 0.1433 - accuracy: 0.9535 - val_loss: 0.3698 - val_accuracy: 0.9218\n",
      "Epoch 17/60\n",
      "255/255 [==============================] - 2s 9ms/step - loss: 0.1064 - accuracy: 0.9658 - val_loss: 0.2126 - val_accuracy: 0.9417\n",
      "Epoch 18/60\n",
      "255/255 [==============================] - 2s 9ms/step - loss: 0.0874 - accuracy: 0.9680 - val_loss: 0.1752 - val_accuracy: 0.9372\n",
      "Epoch 19/60\n",
      "255/255 [==============================] - 3s 10ms/step - loss: 0.0801 - accuracy: 0.9734 - val_loss: 0.2102 - val_accuracy: 0.9404\n",
      "Epoch 20/60\n",
      "255/255 [==============================] - 2s 9ms/step - loss: 0.1434 - accuracy: 0.9614 - val_loss: 0.3248 - val_accuracy: 0.9090\n",
      "Epoch 21/60\n",
      "255/255 [==============================] - 2s 9ms/step - loss: 0.6681 - accuracy: 0.9331 - val_loss: 0.3308 - val_accuracy: 0.9340\n",
      "Epoch 22/60\n",
      "255/255 [==============================] - 2s 9ms/step - loss: 0.0879 - accuracy: 0.9663 - val_loss: 0.3367 - val_accuracy: 0.9417\n",
      "Epoch 23/60\n",
      "255/255 [==============================] - 2s 9ms/step - loss: 0.0755 - accuracy: 0.9702 - val_loss: 0.3375 - val_accuracy: 0.9449\n",
      "Epoch 24/60\n",
      "255/255 [==============================] - 2s 9ms/step - loss: 0.1052 - accuracy: 0.9648 - val_loss: 0.2204 - val_accuracy: 0.9288\n",
      "Epoch 25/60\n",
      "255/255 [==============================] - 2s 9ms/step - loss: 0.1165 - accuracy: 0.9557 - val_loss: 0.2776 - val_accuracy: 0.9122\n",
      "Epoch 26/60\n",
      "255/255 [==============================] - 2s 9ms/step - loss: 0.3286 - accuracy: 0.9434 - val_loss: 1.8789 - val_accuracy: 0.9160\n",
      "Epoch 27/60\n",
      "255/255 [==============================] - 2s 9ms/step - loss: 0.0915 - accuracy: 0.9688 - val_loss: 0.9253 - val_accuracy: 0.9288\n",
      "Epoch 28/60\n",
      "255/255 [==============================] - 2s 9ms/step - loss: 0.1052 - accuracy: 0.9584 - val_loss: 0.5131 - val_accuracy: 0.9333\n",
      "Epoch 29/60\n",
      "255/255 [==============================] - 2s 9ms/step - loss: 0.0717 - accuracy: 0.9725 - val_loss: 0.4509 - val_accuracy: 0.9372\n",
      "Epoch 30/60\n",
      "255/255 [==============================] - 2s 9ms/step - loss: 0.0639 - accuracy: 0.9761 - val_loss: 0.5336 - val_accuracy: 0.9301\n",
      "Epoch 31/60\n",
      "255/255 [==============================] - 2s 9ms/step - loss: 0.0679 - accuracy: 0.9739 - val_loss: 0.4040 - val_accuracy: 0.9250\n",
      "Epoch 32/60\n",
      "255/255 [==============================] - 2s 9ms/step - loss: 0.0958 - accuracy: 0.9639 - val_loss: 0.3461 - val_accuracy: 0.9237\n",
      "Epoch 33/60\n",
      "255/255 [==============================] - 2s 9ms/step - loss: 0.0855 - accuracy: 0.9685 - val_loss: 0.2854 - val_accuracy: 0.9321\n",
      "Epoch 34/60\n",
      "255/255 [==============================] - 2s 9ms/step - loss: 0.4819 - accuracy: 0.9039 - val_loss: 0.4816 - val_accuracy: 0.8744\n",
      "Epoch 35/60\n",
      "255/255 [==============================] - 2s 9ms/step - loss: 0.2291 - accuracy: 0.9270 - val_loss: 0.5460 - val_accuracy: 0.9026\n",
      "Epoch 36/60\n",
      "255/255 [==============================] - 2s 10ms/step - loss: 0.1586 - accuracy: 0.9316 - val_loss: 0.3813 - val_accuracy: 0.9365\n",
      "Epoch 37/60\n",
      "255/255 [==============================] - 2s 9ms/step - loss: 0.0972 - accuracy: 0.9602 - val_loss: 0.7571 - val_accuracy: 0.9308\n",
      "Epoch 38/60\n",
      "255/255 [==============================] - 2s 9ms/step - loss: 0.1126 - accuracy: 0.9604 - val_loss: 0.6039 - val_accuracy: 0.9263\n",
      "Epoch 39/60\n",
      "255/255 [==============================] - 2s 9ms/step - loss: 0.0746 - accuracy: 0.9698 - val_loss: 0.4671 - val_accuracy: 0.9378\n",
      "Epoch 40/60\n",
      "255/255 [==============================] - 2s 9ms/step - loss: 0.2537 - accuracy: 0.9530 - val_loss: 0.4263 - val_accuracy: 0.9205\n",
      "Epoch 41/60\n",
      "255/255 [==============================] - 2s 9ms/step - loss: 0.2034 - accuracy: 0.9506 - val_loss: 0.7454 - val_accuracy: 0.9212\n",
      "Epoch 42/60\n",
      "255/255 [==============================] - 2s 9ms/step - loss: 0.1496 - accuracy: 0.9572 - val_loss: 0.8390 - val_accuracy: 0.9179\n",
      "Epoch 43/60\n",
      "255/255 [==============================] - 2s 9ms/step - loss: 0.1189 - accuracy: 0.9666 - val_loss: 0.6235 - val_accuracy: 0.9115\n",
      "Epoch 44/60\n",
      "255/255 [==============================] - 2s 9ms/step - loss: 0.1476 - accuracy: 0.9592 - val_loss: 0.2892 - val_accuracy: 0.9192\n",
      "Epoch 45/60\n",
      "255/255 [==============================] - 2s 9ms/step - loss: 0.0892 - accuracy: 0.9680 - val_loss: 0.4437 - val_accuracy: 0.9256\n",
      "Epoch 46/60\n",
      "255/255 [==============================] - 2s 9ms/step - loss: 0.0674 - accuracy: 0.9737 - val_loss: 0.3628 - val_accuracy: 0.9128\n",
      "Epoch 47/60\n",
      "255/255 [==============================] - 2s 9ms/step - loss: 0.0776 - accuracy: 0.9720 - val_loss: 0.9769 - val_accuracy: 0.9199\n",
      "Epoch 48/60\n",
      "255/255 [==============================] - 2s 9ms/step - loss: 0.1186 - accuracy: 0.9602 - val_loss: 0.4551 - val_accuracy: 0.9288\n",
      "Epoch 49/60\n",
      "255/255 [==============================] - 2s 9ms/step - loss: 0.0825 - accuracy: 0.9784 - val_loss: 0.4769 - val_accuracy: 0.9237\n",
      "Epoch 50/60\n",
      "255/255 [==============================] - 2s 9ms/step - loss: 0.0685 - accuracy: 0.9737 - val_loss: 1.2954 - val_accuracy: 0.9276\n",
      "Epoch 51/60\n",
      "255/255 [==============================] - 2s 9ms/step - loss: 0.0488 - accuracy: 0.9786 - val_loss: 1.4750 - val_accuracy: 0.9417\n",
      "Epoch 52/60\n",
      "255/255 [==============================] - 2s 9ms/step - loss: 0.1822 - accuracy: 0.9749 - val_loss: 1.2360 - val_accuracy: 0.9128\n",
      "Epoch 53/60\n",
      "255/255 [==============================] - 2s 9ms/step - loss: 0.2459 - accuracy: 0.9395 - val_loss: 1.0994 - val_accuracy: 0.9321\n",
      "Epoch 54/60\n",
      "255/255 [==============================] - 2s 9ms/step - loss: 0.2076 - accuracy: 0.9498 - val_loss: 1.1134 - val_accuracy: 0.9019\n",
      "Epoch 55/60\n",
      "255/255 [==============================] - 2s 9ms/step - loss: 0.1985 - accuracy: 0.9624 - val_loss: 0.8552 - val_accuracy: 0.9256\n",
      "Epoch 56/60\n",
      "255/255 [==============================] - 2s 9ms/step - loss: 0.1385 - accuracy: 0.9607 - val_loss: 0.9648 - val_accuracy: 0.9269\n",
      "Epoch 57/60\n",
      "255/255 [==============================] - 2s 9ms/step - loss: 0.0925 - accuracy: 0.9671 - val_loss: 0.9081 - val_accuracy: 0.9051\n",
      "Epoch 58/60\n",
      "255/255 [==============================] - 2s 9ms/step - loss: 0.0754 - accuracy: 0.9739 - val_loss: 0.8495 - val_accuracy: 0.9404\n",
      "Epoch 59/60\n",
      "255/255 [==============================] - 2s 9ms/step - loss: 0.0611 - accuracy: 0.9813 - val_loss: 0.9293 - val_accuracy: 0.9224\n",
      "Epoch 60/60\n",
      "255/255 [==============================] - 2s 9ms/step - loss: 0.1627 - accuracy: 0.9754 - val_loss: 0.6089 - val_accuracy: 0.9436\n"
     ]
    }
   ],
   "source": [
    "import math\n",
    "adam = keras.optimizers.Adam(lr=0.004)\n",
    "model.compile(loss='categorical_crossentropy', optimizer=adam, metrics=['accuracy'])\n",
    "model.fit(X_train_s,Y_train_s, epochs=60, batch_size=16,validation_data=(X_val_s, Y_val_s), verbose=1)\n",
    "K.clear_session()"
   ]
  },
  {
   "cell_type": "code",
   "execution_count": 73,
   "metadata": {
    "colab": {
     "base_uri": "https://localhost:8080/"
    },
    "id": "oQrvuRNksHfF",
    "outputId": "2a10d536-aa42-4032-e67d-be09b2c6677f"
   },
   "outputs": [
    {
     "name": "stdout",
     "output_type": "stream",
     "text": [
      "Model: \"sequential\"\n",
      "_________________________________________________________________\n",
      "Layer (type)                 Output Shape              Param #   \n",
      "=================================================================\n",
      "conv1d (Conv1D)              (None, 122, 32)           2048      \n",
      "_________________________________________________________________\n",
      "conv1d_1 (Conv1D)            (None, 116, 32)           7200      \n",
      "_________________________________________________________________\n",
      "dropout (Dropout)            (None, 116, 32)           0         \n",
      "_________________________________________________________________\n",
      "max_pooling1d (MaxPooling1D) (None, 23, 32)            0         \n",
      "_________________________________________________________________\n",
      "flatten (Flatten)            (None, 736)               0         \n",
      "_________________________________________________________________\n",
      "dense (Dense)                (None, 64)                47168     \n",
      "_________________________________________________________________\n",
      "dense_1 (Dense)              (None, 3)                 195       \n",
      "=================================================================\n",
      "Total params: 56,611\n",
      "Trainable params: 56,611\n",
      "Non-trainable params: 0\n",
      "_________________________________________________________________\n",
      "None\n"
     ]
    }
   ],
   "source": [
    "from tensorflow.python.keras import regularizers\n",
    "np.random.seed(0)\n",
    "tf.random.set_seed(0) \n",
    "sess = tf.compat.v1.Session(graph=tf.compat.v1.get_default_graph())\n",
    "K.set_session(sess)\n",
    "# Initiliazing the sequential model\n",
    "model = Sequential()\n",
    "model.add(Conv1D(filters=32, kernel_size=7,activation='relu',\n",
    "                    kernel_initializer='he_uniform',\n",
    "                    kernel_regularizer=regularizers.l2(0.5485959479177),input_shape=(128,9)))\n",
    "model.add(Conv1D(filters=32, kernel_size=7, \n",
    "                activation='relu',kernel_regularizer=regularizers.l2(0.28312064960787),kernel_initializer='he_uniform'))\n",
    "model.add(Dropout(0.6725241946))\n",
    "model.add(MaxPooling1D(pool_size=5))\n",
    "model.add(Flatten())\n",
    "model.add(Dense(64, activation='relu'))\n",
    "model.add(Dense(3, activation='softmax'))\n",
    "adam = keras.optimizers.Adam(lr=0.000832635847)\n",
    "rmsprop = keras.optimizers.RMSprop(lr=0.002098660517)\n",
    "choiceval = 'adam'\n",
    "if choiceval == 'adam':\n",
    "        optim = adam\n",
    "else:\n",
    "        optim = rmsprop\n",
    "print(model.summary())"
   ]
  },
  {
   "cell_type": "code",
   "execution_count": 76,
   "metadata": {
    "id": "AMbJCa41sp4J"
   },
   "outputs": [],
   "source": [
    "model.compile(loss='categorical_crossentropy', metrics=['accuracy'],optimizer=optim)"
   ]
  },
  {
   "cell_type": "code",
   "execution_count": 77,
   "metadata": {
    "colab": {
     "base_uri": "https://localhost:8080/"
    },
    "id": "gWRGwywBssh4",
    "outputId": "5617744d-bb53-4bf7-ee70-5165b077195c"
   },
   "outputs": [
    {
     "name": "stdout",
     "output_type": "stream",
     "text": [
      "Epoch 1/19\n",
      "103/103 [==============================] - 2s 20ms/step - loss: 35.3636 - accuracy: 0.6843 - val_loss: 20.3597 - val_accuracy: 0.8399\n",
      "Epoch 2/19\n",
      "103/103 [==============================] - 2s 15ms/step - loss: 12.4913 - accuracy: 0.9379 - val_loss: 7.2687 - val_accuracy: 0.9430\n",
      "Epoch 3/19\n",
      "103/103 [==============================] - 2s 15ms/step - loss: 4.3374 - accuracy: 0.9756 - val_loss: 2.7596 - val_accuracy: 0.8688\n",
      "Epoch 4/19\n",
      "103/103 [==============================] - 2s 15ms/step - loss: 1.5371 - accuracy: 0.9842 - val_loss: 1.1878 - val_accuracy: 0.9539\n",
      "Epoch 5/19\n",
      "103/103 [==============================] - 2s 15ms/step - loss: 0.6157 - accuracy: 0.9842 - val_loss: 0.6594 - val_accuracy: 0.9625\n",
      "Epoch 6/19\n",
      "103/103 [==============================] - 2s 15ms/step - loss: 0.2975 - accuracy: 0.9924 - val_loss: 0.4936 - val_accuracy: 0.9596\n",
      "Epoch 7/19\n",
      "103/103 [==============================] - 2s 15ms/step - loss: 0.2018 - accuracy: 0.9936 - val_loss: 0.4211 - val_accuracy: 0.9654\n",
      "Epoch 8/19\n",
      "103/103 [==============================] - 2s 15ms/step - loss: 0.1667 - accuracy: 0.9909 - val_loss: 0.3868 - val_accuracy: 0.9712\n",
      "Epoch 9/19\n",
      "103/103 [==============================] - 2s 15ms/step - loss: 0.1408 - accuracy: 0.9954 - val_loss: 0.3541 - val_accuracy: 0.9661\n",
      "Epoch 10/19\n",
      "103/103 [==============================] - 2s 15ms/step - loss: 0.1302 - accuracy: 0.9957 - val_loss: 0.3419 - val_accuracy: 0.9719\n",
      "Epoch 11/19\n",
      "103/103 [==============================] - 2s 15ms/step - loss: 0.1184 - accuracy: 0.9957 - val_loss: 0.3445 - val_accuracy: 0.9603\n",
      "Epoch 12/19\n",
      "103/103 [==============================] - 2s 16ms/step - loss: 0.1230 - accuracy: 0.9918 - val_loss: 0.3136 - val_accuracy: 0.9690\n",
      "Epoch 13/19\n",
      "103/103 [==============================] - 2s 15ms/step - loss: 0.1597 - accuracy: 0.9842 - val_loss: 0.2922 - val_accuracy: 0.9603\n",
      "Epoch 14/19\n",
      "103/103 [==============================] - 2s 15ms/step - loss: 0.1014 - accuracy: 0.9988 - val_loss: 0.3128 - val_accuracy: 0.9690\n",
      "Epoch 15/19\n",
      "103/103 [==============================] - 2s 15ms/step - loss: 0.0924 - accuracy: 0.9976 - val_loss: 0.3047 - val_accuracy: 0.9466\n",
      "Epoch 16/19\n",
      "103/103 [==============================] - 2s 15ms/step - loss: 0.1106 - accuracy: 0.9924 - val_loss: 0.2585 - val_accuracy: 0.9784\n",
      "Epoch 17/19\n",
      "103/103 [==============================] - 2s 15ms/step - loss: 0.1324 - accuracy: 0.9848 - val_loss: 0.2972 - val_accuracy: 0.9531\n",
      "Epoch 18/19\n",
      "103/103 [==============================] - 2s 15ms/step - loss: 0.1053 - accuracy: 0.9948 - val_loss: 0.3000 - val_accuracy: 0.9510\n",
      "Epoch 19/19\n",
      "103/103 [==============================] - 2s 15ms/step - loss: 0.1005 - accuracy: 0.9921 - val_loss: 0.2672 - val_accuracy: 0.9784\n"
     ]
    }
   ],
   "source": [
    "result = model.fit(X_train_d, Y_train_d,\n",
    "                    batch_size=32,\n",
    "                    epochs=19,\n",
    "                    verbose=1,\n",
    "                    validation_data=(X_val_d, Y_val_d))"
   ]
  },
  {
   "cell_type": "code",
   "execution_count": 78,
   "metadata": {
    "colab": {
     "base_uri": "https://localhost:8080/"
    },
    "id": "57IAXGjzve1N",
    "outputId": "b7d52fa5-f2dd-4e6a-a3df-3acfd1f11da8"
   },
   "outputs": [
    {
     "name": "stdout",
     "output_type": "stream",
     "text": [
      "Train_accuracy 1.0 test_accuracy 0.9783706068992615\n"
     ]
    }
   ],
   "source": [
    "_,acc_val = model.evaluate(X_val_d,Y_val_d,verbose=0)\n",
    "_,acc_train = model.evaluate(X_train_d,Y_train_d,verbose=0)\n",
    "print('Train_accuracy',acc_train,'test_accuracy',acc_val)"
   ]
  },
  {
   "cell_type": "code",
   "execution_count": 80,
   "metadata": {
    "colab": {
     "base_uri": "https://localhost:8080/"
    },
    "id": "LQgOXnsqvq09",
    "outputId": "9ab042ed-d2c4-4823-8c02-cc441ffadd2e"
   },
   "outputs": [
    {
     "name": "stdout",
     "output_type": "stream",
     "text": [
      "[[494   1   1]\n",
      " [  1 417   2]\n",
      " [  1  24 446]]\n"
     ]
    }
   ],
   "source": [
    "from sklearn import metrics\n",
    "ACTIVITIES = {\n",
    "    0: 'WALKING',\n",
    "    1: 'WALKING_UPSTAIRS',\n",
    "    2: 'WALKING_DOWNSTAIRS',\n",
    "}\n",
    "\n",
    "# Utility function to print the confusion matrix\n",
    "def confusion_matrix_cnn(Y_true, Y_pred):\n",
    "    Y_true = pd.Series([ACTIVITIES[y] for y in np.argmax(Y_true, axis=1)])\n",
    "    Y_pred = pd.Series([ACTIVITIES[y] for y in np.argmax(Y_pred, axis=1)])\n",
    "\n",
    "    #return pd.crosstab(Y_true, Y_pred, rownames=['True'], colnames=['Pred'])\n",
    "    return metrics.confusion_matrix(Y_true, Y_pred)\n",
    "\n",
    "# Confusion Matrix\n",
    "print(confusion_matrix_cnn(Y_val_d,model.predict(X_val_d)))"
   ]
  },
  {
   "cell_type": "code",
   "execution_count": 82,
   "metadata": {
    "colab": {
     "base_uri": "https://localhost:8080/",
     "height": 576
    },
    "id": "UrGaUrgAv2A6",
    "outputId": "251e6eb9-6146-4d29-deab-873b42c2bc47"
   },
   "outputs": [
    {
     "data": {
      "image/png": "[encoded data removed]",
      "text/plain": [
       "<Figure size 576x576 with 2 Axes>"
      ]
     },
     "metadata": {
      "needs_background": "light",
      "tags": []
     },
     "output_type": "display_data"
    }
   ],
   "source": [
    "plt.figure(figsize=(8,8))\n",
    "cm = confusion_matrix_cnn(Y_val_d,model.predict(X_val_d))\n",
    "plot_confusion_matrix(cm, classes=['WALKING','WALKING_UPSTAIRS','WALKING_DOWNSTAIRS'], \n",
    "                      normalize=True, title='Normalized confusion matrix', cmap = plt.cm.Greens)\n",
    "plt.show()"
   ]
  },
  {
   "cell_type": "code",
   "execution_count": 84,
   "metadata": {
    "id": "vJMeZHBMwBB3"
   },
   "outputs": [],
   "source": [
    "#saving model\n",
    "model.save('final_model_dynamic.h5')"
   ]
  },
  {
   "cell_type": "code",
   "execution_count": 87,
   "metadata": {
    "id": "YntuGwC9wMWT"
   },
   "outputs": [],
   "source": [
    "def data():\n",
    "    \"\"\"\n",
    "    Obtain the dataset from multiple files.\n",
    "    Returns: X_train, X_test, y_train, y_test\n",
    "    \"\"\"\n",
    "    # Data directory\n",
    "    DATADIR = 'UCI_HAR_Dataset'\n",
    "    # Raw data signals\n",
    "    # Signals are from Accelerometer and Gyroscope\n",
    "    # The signals are in x,y,z directions\n",
    "    # Sensor signals are filtered to have only body acceleration\n",
    "    # excluding the acceleration due to gravity\n",
    "    # Triaxial acceleration from the accelerometer is total acceleration\n",
    "    SIGNALS = [\n",
    "        \"body_acc_x\",\n",
    "        \"body_acc_y\",\n",
    "        \"body_acc_z\",\n",
    "        \"body_gyro_x\",\n",
    "        \"body_gyro_y\",\n",
    "        \"body_gyro_z\",\n",
    "        \"total_acc_x\",\n",
    "        \"total_acc_y\",\n",
    "        \"total_acc_z\"\n",
    "        ]\n",
    "    # Utility function to read the data from csv file\n",
    "    def _read_csv(filename):\n",
    "        return pd.read_csv(filename, delim_whitespace=True, header=None)\n",
    "\n",
    "    # Utility function to load the load\n",
    "    def load_signals(subset):\n",
    "        signals_data = []\n",
    "\n",
    "        for signal in SIGNALS:\n",
    "            filename = f'/drive/My Drive/UCI HAR Dataset/UCI HAR Dataset/{subset}/Inertial Signals/{signal}_{subset}.txt'\n",
    "            signals_data.append( _read_csv(filename).to_numpy()) \n",
    "\n",
    "        # Transpose is used to change the dimensionality of the output,\n",
    "        # aggregating the signals by combination of sample/timestep.\n",
    "        # Resultant shape is (7352 train/2947 test samples, 128 timesteps, 9 signals)\n",
    "        return np.transpose(signals_data, (1, 2, 0))\n",
    "    \n",
    "    def load_y(subset):\n",
    "        \"\"\"\n",
    "        The objective that we are trying to predict is a integer, from 1 to 6,\n",
    "        that represents a human activity. We return a binary representation of \n",
    "        every sample objective as a 6 bits vector using One Hot Encoding\n",
    "        \"\"\"\n",
    "        filename = f'/drive/My Drive/UCI HAR Dataset/UCI HAR Dataset/{subset}/y_{subset}.txt'\n",
    "        y = _read_csv(filename)[0]\n",
    "        return y\n",
    "    \n",
    "    X_train, X_val = load_signals('train'), load_signals('test')\n",
    "    Y_train, Y_val = load_y('train'), load_y('test')\n",
    "\n",
    "    return X_train, Y_train, X_val,  Y_val"
   ]
  },
  {
   "cell_type": "code",
   "execution_count": 88,
   "metadata": {
    "id": "_SPQaGDDwv57"
   },
   "outputs": [],
   "source": [
    "X_train, Y_train, X_val,  Y_val = data()"
   ]
  },
  {
   "cell_type": "code",
   "execution_count": 89,
   "metadata": {
    "colab": {
     "base_uri": "https://localhost:8080/"
    },
    "id": "sPCUufR9w5ur",
    "outputId": "79e070d7-815f-4262-f98a-3cbc44c560f2"
   },
   "outputs": [
    {
     "name": "stdout",
     "output_type": "stream",
     "text": [
      "shape of test Y (2947,)\n"
     ]
    }
   ],
   "source": [
    "print('shape of test Y',Y_val.shape)"
   ]
  },
  {
   "cell_type": "markdown",
   "metadata": {
    "id": "HRKdRM2ow_Tq"
   },
   "source": [
    "#Final prediction pipeline"
   ]
  },
  {
   "cell_type": "code",
   "execution_count": 90,
   "metadata": {
    "id": "VROjyeacw9pD"
   },
   "outputs": [],
   "source": [
    "##loading keras models and picle files for scaling data \n",
    "from keras.models import load_model\n",
    "import pickle\n",
    "model_2class = load_model('final_model_2class.h5')\n",
    "model_dynamic = load_model('final_model_dynamic.h5')\n",
    "model_static = load_model('final_model_static.h5')\n",
    "scale_2class = pickle.load(open('Scale_2class.p','rb'))\n",
    "scale_static = pickle.load(open('Scale_static.p','rb'))\n",
    "scale_dynamic = pickle.load(open('Scale_dynamic.p','rb'))"
   ]
  },
  {
   "cell_type": "code",
   "execution_count": 91,
   "metadata": {
    "id": "rHg8TV0KxG7r"
   },
   "outputs": [],
   "source": [
    "##scaling the data\n",
    "def transform_data(X,scale):\n",
    "    X_temp = X.reshape((X.shape[0] * X.shape[1], X.shape[2]))\n",
    "    X_temp = scale.transform(X_temp)\n",
    "    return X_temp.reshape(X.shape)"
   ]
  },
  {
   "cell_type": "code",
   "execution_count": 92,
   "metadata": {
    "id": "c0KvFLtexMDf"
   },
   "outputs": [],
   "source": [
    "#predicting output activity\n",
    "def predict_activity(X):\n",
    "    ##predicting whether dynamic or static\n",
    "    predict_2class = model_2class.predict(transform_data(X,scale_2class))\n",
    "    Y_pred_2class =  np.argmax(predict_2class, axis=1)\n",
    "    #static data filter\n",
    "    X_static = X[Y_pred_2class==1]\n",
    "    #dynamic data filter\n",
    "    X_dynamic = X[Y_pred_2class==0]\n",
    "    #predicting static activities\n",
    "    predict_static = model_static.predict(transform_data(X_static,scale_static))\n",
    "    predict_static = np.argmax(predict_static,axis=1)\n",
    "    #adding 4 because need to get inal prediction lable as output\n",
    "    predict_static = predict_static + 4\n",
    "    #predicting dynamic activites\n",
    "    predict_dynamic = model_dynamic.predict(transform_data(X_dynamic,scale_dynamic))\n",
    "    predict_dynamic = np.argmax(predict_dynamic,axis=1)\n",
    "    #adding 1 because need to get inal prediction lable as output\n",
    "    predict_dynamic = predict_dynamic + 1\n",
    "    ##appending final output to one list in the same sequence of input data\n",
    "    i,j = 0,0 \n",
    "    final_pred = []\n",
    "    for mask in Y_pred_2class:\n",
    "        if mask == 1:\n",
    "            final_pred.append(predict_static[i])\n",
    "            i = i + 1\n",
    "        else:\n",
    "            final_pred.append(predict_dynamic[j])\n",
    "            j = j + 1 \n",
    "    return final_pred"
   ]
  },
  {
   "cell_type": "code",
   "execution_count": 93,
   "metadata": {
    "id": "pP6QTc2UxSUt"
   },
   "outputs": [],
   "source": [
    "##predicting \n",
    "final_pred_val = predict_activity(X_val)\n",
    "final_pred_train = predict_activity(X_train)"
   ]
  },
  {
   "cell_type": "code",
   "execution_count": 94,
   "metadata": {
    "colab": {
     "base_uri": "https://localhost:8080/"
    },
    "id": "-_bWdqMixW17",
    "outputId": "f035c5b5-4de0-44f8-e1fd-b49bdfedf589"
   },
   "outputs": [
    {
     "name": "stdout",
     "output_type": "stream",
     "text": [
      "Accuracy of train data 0.9868063112078346\n",
      "Accuracy of validation data 0.9528333898880217\n"
     ]
    }
   ],
   "source": [
    "##accuracy of train and test\n",
    "from sklearn.metrics import accuracy_score\n",
    "print('Accuracy of train data',accuracy_score(Y_train,final_pred_train))\n",
    "print('Accuracy of validation data',accuracy_score(Y_val,final_pred_val))"
   ]
  },
  {
   "cell_type": "code",
   "execution_count": 95,
   "metadata": {
    "colab": {
     "base_uri": "https://localhost:8080/"
    },
    "id": "no4sDowxxcUF",
    "outputId": "96077602-f3db-4acc-e28d-4652855e1b04"
   },
   "outputs": [
    {
     "data": {
      "text/plain": [
       "array([[494,   1,   1,   0,   0,   0],\n",
       "       [  1, 446,  24,   0,   0,   0],\n",
       "       [  1,   2, 417,   0,   0,   0],\n",
       "       [  1,  17,   0, 417,  55,   1],\n",
       "       [  0,   2,   0,  16, 514,   0],\n",
       "       [  0,  17,   0,   0,   0, 520]])"
      ]
     },
     "execution_count": 95,
     "metadata": {
      "tags": []
     },
     "output_type": "execute_result"
    }
   ],
   "source": [
    "#confusion metric\n",
    "cm = metrics.confusion_matrix(Y_val, final_pred_val,labels=range(1,7))\n",
    "cm"
   ]
  },
  {
   "cell_type": "code",
   "execution_count": 96,
   "metadata": {
    "colab": {
     "base_uri": "https://localhost:8080/",
     "height": 576
    },
    "id": "AmOf1WF9xgcn",
    "outputId": "82a6f36d-c023-4fc0-82ca-449908870fbd"
   },
   "outputs": [
    {
     "data": {
      "image/png": "[encoded data removed]",
      "text/plain": [
       "<Figure size 576x576 with 2 Axes>"
      ]
     },
     "metadata": {
      "needs_background": "light",
      "tags": []
     },
     "output_type": "display_data"
    }
   ],
   "source": [
    "plt.figure(figsize=(8,8))\n",
    "labels=['WALKING','WALKING_UPSTAIRS','WALKING_DOWNSTAIRS','SITTING','STANDING','LAYING']\n",
    "plot_confusion_matrix(cm, classes=labels, \n",
    "                      normalize=True, title='Normalized confusion matrix', cmap = plt.cm.Greens)\n",
    "plt.show()"
   ]
  },
  {
   "cell_type": "markdown",
   "metadata": {
    "id": "VlMnhVa2xkCq"
   },
   "source": [
    "# The training accuracy is 98.68%\n",
    "# The test accuracy is 95.28%"
   ]
  }
 ],
 "metadata": {
  "colab": {
   "collapsed_sections": [],
   "name": "Human Activity Recognition using CNN divide and conquer approach.ipynb",
   "provenance": []
  },
  "kernelspec": {
   "display_name": "Python 3",
   "language": "python",
   "name": "python3"
  },
  "language_info": {
   "codemirror_mode": {
    "name": "ipython",
    "version": 3
   },
   "file_extension": ".py",
   "mimetype": "text/x-python",
   "name": "python",
   "nbconvert_exporter": "python",
   "pygments_lexer": "ipython3",
   "version": "3.8.5"
  }
 },
 "nbformat": 4,
 "nbformat_minor": 1
}
